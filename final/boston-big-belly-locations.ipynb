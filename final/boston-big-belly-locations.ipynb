{
 "cells": [
  {
   "cell_type": "markdown",
   "metadata": {},
   "source": [
    "### Locations of all Big Belly trash receptacles in the city\n",
    "\n",
    "Data URL: https://data.boston.gov/dataset/8ea35b68-534e-4ded-af07-c224cf4b71dc/resource/15e7fa44-b9a8-42da-82e1-304e43460095/download/big-belly-locations.csv"
   ]
  },
  {
   "cell_type": "markdown",
   "metadata": {},
   "source": [
    "### Documentation\n",
    "https://pandas.pydata.org/docs/reference/frame.html\n",
    "\n",
    "https://matplotlib.org/contents.html"
   ]
  },
  {
   "cell_type": "code",
   "execution_count": 2,
   "metadata": {},
   "outputs": [],
   "source": [
    "import numpy as np\n",
    "import pandas as pd"
   ]
  },
  {
   "cell_type": "code",
   "execution_count": 5,
   "metadata": {},
   "outputs": [
    {
     "data": {
      "text/plain": [
       "description    string\n",
       "Location       string\n",
       "dtype: object"
      ]
     },
     "execution_count": 5,
     "metadata": {},
     "output_type": "execute_result"
    }
   ],
   "source": [
    "locations = pd.read_csv('data/boston-big-belly-locations.csv', dtype='string')\n",
    "locations.dtypes"
   ]
  },
  {
   "cell_type": "code",
   "execution_count": 8,
   "metadata": {},
   "outputs": [],
   "source": [
    "locations.head()\n",
    "# TODO 2: use the dropna() method to drop empty values\n",
    "locations.dropna(inplace=True)"
   ]
  },
  {
   "cell_type": "code",
   "execution_count": 10,
   "metadata": {},
   "outputs": [],
   "source": [
    "\n",
    "def get_latitude(location):\n",
    "    return location.lstrip('(').rstrip(')').split(',')[0]\n",
    "\n",
    "def get_longitude(location):\n",
    "    return location.lstrip('(').rstrip(')').split(',')[1]"
   ]
  },
  {
   "cell_type": "code",
   "execution_count": 16,
   "metadata": {},
   "outputs": [],
   "source": [
    "# TODO 3: use the apply() method with the above functions to create two new \n",
    "# fields 'latitude' and 'longitude' in the data frame\n",
    "# https://pandas.pydata.org/docs/reference/api/pandas.Series.apply.html?highlight=apply#pandas.Series.apply\n",
    "\n",
    "# Example: df['newfield'] = df['existingfield'].apply(functionname)\n",
    "locations[\"latitude\"] = locations[\"Location\"].apply(get_latitude)\n",
    "locations[\"longitude\"] = locations[\"Location\"].apply(get_longitude)\n",
    "locations = locations.astype({'latitude': 'float32', 'longitude': 'float32'})"
   ]
  },
  {
   "cell_type": "code",
   "execution_count": 17,
   "metadata": {},
   "outputs": [
    {
     "data": {
      "text/html": [
       "<div>\n",
       "<style scoped>\n",
       "    .dataframe tbody tr th:only-of-type {\n",
       "        vertical-align: middle;\n",
       "    }\n",
       "\n",
       "    .dataframe tbody tr th {\n",
       "        vertical-align: top;\n",
       "    }\n",
       "\n",
       "    .dataframe thead th {\n",
       "        text-align: right;\n",
       "    }\n",
       "</style>\n",
       "<table border=\"1\" class=\"dataframe\">\n",
       "  <thead>\n",
       "    <tr style=\"text-align: right;\">\n",
       "      <th></th>\n",
       "      <th>description</th>\n",
       "      <th>Location</th>\n",
       "      <th>latitude</th>\n",
       "      <th>longitude</th>\n",
       "    </tr>\n",
       "  </thead>\n",
       "  <tbody>\n",
       "    <tr>\n",
       "      <th>0</th>\n",
       "      <td>1 North Market Street  (in front of McCormick ...</td>\n",
       "      <td>(42.36034013, -71.05581905)</td>\n",
       "      <td>42.360340</td>\n",
       "      <td>-71.055817</td>\n",
       "    </tr>\n",
       "    <tr>\n",
       "      <th>1</th>\n",
       "      <td>100 Meridian @ London</td>\n",
       "      <td>(42.37344585, -71.03900682)</td>\n",
       "      <td>42.373447</td>\n",
       "      <td>-71.039009</td>\n",
       "    </tr>\n",
       "    <tr>\n",
       "      <th>2</th>\n",
       "      <td>100 N Washington</td>\n",
       "      <td>(42.36593588, -71.05833609)</td>\n",
       "      <td>42.365936</td>\n",
       "      <td>-71.058334</td>\n",
       "    </tr>\n",
       "    <tr>\n",
       "      <th>3</th>\n",
       "      <td>106 Cambridge Street</td>\n",
       "      <td>(42.36112, -71.06296)</td>\n",
       "      <td>42.361118</td>\n",
       "      <td>-71.062958</td>\n",
       "    </tr>\n",
       "    <tr>\n",
       "      <th>4</th>\n",
       "      <td>1080 Boylston Street</td>\n",
       "      <td>(42.3471459, -71.0882423)</td>\n",
       "      <td>42.347145</td>\n",
       "      <td>-71.088242</td>\n",
       "    </tr>\n",
       "  </tbody>\n",
       "</table>\n",
       "</div>"
      ],
      "text/plain": [
       "                                         description  \\\n",
       "0  1 North Market Street  (in front of McCormick ...   \n",
       "1                              100 Meridian @ London   \n",
       "2                                   100 N Washington   \n",
       "3                               106 Cambridge Street   \n",
       "4                               1080 Boylston Street   \n",
       "\n",
       "                      Location   latitude  longitude  \n",
       "0  (42.36034013, -71.05581905)  42.360340 -71.055817  \n",
       "1  (42.37344585, -71.03900682)  42.373447 -71.039009  \n",
       "2  (42.36593588, -71.05833609)  42.365936 -71.058334  \n",
       "3        (42.36112, -71.06296)  42.361118 -71.062958  \n",
       "4    (42.3471459, -71.0882423)  42.347145 -71.088242  "
      ]
     },
     "execution_count": 17,
     "metadata": {},
     "output_type": "execute_result"
    }
   ],
   "source": [
    "locations.head()"
   ]
  },
  {
   "cell_type": "code",
   "execution_count": 19,
   "metadata": {},
   "outputs": [
    {
     "data": {
      "text/plain": [
       "<AxesSubplot:xlabel='longitude', ylabel='latitude'>"
      ]
     },
     "execution_count": 19,
     "metadata": {},
     "output_type": "execute_result"
    },
    {
     "data": {
      "image/png": "[encoded data removed]",
      "text/plain": [
       "<Figure size 432x288 with 1 Axes>"
      ]
     },
     "metadata": {
      "needs_background": "light"
     },
     "output_type": "display_data"
    }
   ],
   "source": [
    "%matplotlib inline\n",
    "import matplotlib.pyplot as plt\n",
    "\n",
    "# TODO 4: create a scatter plot with 'longitude' on the x-axis, and \n",
    "# 'latitude on the y-axis'; set an alpha value on the dot for translucency\n",
    "# https://matplotlib.org/api/_as_gen/matplotlib.pyplot.scatter.html?highlight=scatter#matplotlib.pyplot.scatter\n",
    "# Example: df.plot(kind='scatter', x='fieldname1', y='fieldname2', ...)\n",
    "locations.plot(kind=\"scatter\", x=\"longitude\", y=\"latitude\")"
   ]
  },
  {
   "cell_type": "code",
   "execution_count": null,
   "metadata": {},
   "outputs": [],
   "source": [
    "# TODO 5: filter the DataFrame by locations on Boyston Street\n",
    "# Example: df[df['fieldname'].str.containts('searchstring')]"
   ]
  },
  {
   "cell_type": "code",
   "execution_count": 20,
   "metadata": {},
   "outputs": [
    {
     "data": {
      "text/html": [
       "<div>\n",
       "<style scoped>\n",
       "    .dataframe tbody tr th:only-of-type {\n",
       "        vertical-align: middle;\n",
       "    }\n",
       "\n",
       "    .dataframe tbody tr th {\n",
       "        vertical-align: top;\n",
       "    }\n",
       "\n",
       "    .dataframe thead th {\n",
       "        text-align: right;\n",
       "    }\n",
       "</style>\n",
       "<table border=\"1\" class=\"dataframe\">\n",
       "  <thead>\n",
       "    <tr style=\"text-align: right;\">\n",
       "      <th></th>\n",
       "      <th>description</th>\n",
       "      <th>Location</th>\n",
       "      <th>latitude</th>\n",
       "      <th>longitude</th>\n",
       "    </tr>\n",
       "  </thead>\n",
       "  <tbody>\n",
       "    <tr>\n",
       "      <th>4</th>\n",
       "      <td>1080 Boylston Street</td>\n",
       "      <td>(42.3471459, -71.0882423)</td>\n",
       "      <td>42.347145</td>\n",
       "      <td>-71.088242</td>\n",
       "    </tr>\n",
       "    <tr>\n",
       "      <th>21</th>\n",
       "      <td>1309 Boylston Street</td>\n",
       "      <td>(42.344205, -71.0992191)</td>\n",
       "      <td>42.344204</td>\n",
       "      <td>-71.099220</td>\n",
       "    </tr>\n",
       "    <tr>\n",
       "      <th>23</th>\n",
       "      <td>1330 Boylston Street (near Yawkey Way)</td>\n",
       "      <td>(42.3444105, -71.09806147)</td>\n",
       "      <td>42.344410</td>\n",
       "      <td>-71.098061</td>\n",
       "    </tr>\n",
       "    <tr>\n",
       "      <th>28</th>\n",
       "      <td>1381 Boylston Street</td>\n",
       "      <td>(42.34372831, -71.1012248)</td>\n",
       "      <td>42.343727</td>\n",
       "      <td>-71.101227</td>\n",
       "    </tr>\n",
       "    <tr>\n",
       "      <th>31</th>\n",
       "      <td>1420 Boylston Street / Between Shaw's &amp; Gulf Gas</td>\n",
       "      <td>(42.34341734, -71.10165331)</td>\n",
       "      <td>42.343418</td>\n",
       "      <td>-71.101654</td>\n",
       "    </tr>\n",
       "  </tbody>\n",
       "</table>\n",
       "</div>"
      ],
      "text/plain": [
       "                                         description  \\\n",
       "4                               1080 Boylston Street   \n",
       "21                              1309 Boylston Street   \n",
       "23            1330 Boylston Street (near Yawkey Way)   \n",
       "28                              1381 Boylston Street   \n",
       "31  1420 Boylston Street / Between Shaw's & Gulf Gas   \n",
       "\n",
       "                       Location   latitude  longitude  \n",
       "4     (42.3471459, -71.0882423)  42.347145 -71.088242  \n",
       "21     (42.344205, -71.0992191)  42.344204 -71.099220  \n",
       "23   (42.3444105, -71.09806147)  42.344410 -71.098061  \n",
       "28   (42.34372831, -71.1012248)  42.343727 -71.101227  \n",
       "31  (42.34341734, -71.10165331)  42.343418 -71.101654  "
      ]
     },
     "execution_count": 20,
     "metadata": {},
     "output_type": "execute_result"
    }
   ],
   "source": [
    "locations[locations[\"description\"].str.contains(\"Boylston Street\")]"
   ]
  }
 ],
 "metadata": {
  "kernelspec": {
   "display_name": "Python 3",
   "language": "python",
   "name": "python3"
  },
  "language_info": {
   "codemirror_mode": {
    "name": "ipython",
    "version": 3
   },
   "file_extension": ".py",
   "mimetype": "text/x-python",
   "name": "python",
   "nbconvert_exporter": "python",
   "pygments_lexer": "ipython3",
   "version": "3.8.5"
  }
 },
 "nbformat": 4,
 "nbformat_minor": 4
}
